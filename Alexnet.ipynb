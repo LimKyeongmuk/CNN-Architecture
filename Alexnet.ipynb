{
  "nbformat": 4,
  "nbformat_minor": 0,
  "metadata": {
    "colab": {
      "name": "Alexnet.ipynb",
      "provenance": [],
      "collapsed_sections": [],
      "include_colab_link": true
    },
    "kernelspec": {
      "name": "python3",
      "display_name": "Python 3"
    },
    "accelerator": "GPU"
  },
  "cells": [
    {
      "cell_type": "markdown",
      "metadata": {
        "id": "view-in-github",
        "colab_type": "text"
      },
      "source": [
        "<a href=\"https://colab.research.google.com/github/LimKyeongmuk/CNN-Architecture/blob/main/Alexnet.ipynb\" target=\"_parent\"><img src=\"https://colab.research.google.com/assets/colab-badge.svg\" alt=\"Open In Colab\"/></a>"
      ]
    },
    {
      "cell_type": "code",
      "metadata": {
        "id": "BVGpJhQ7qyyU"
      },
      "source": [
        "import tensorflow as tf\n",
        "from tensorflow import keras\n",
        "import numpy as np\n",
        "from keras.utils import np_utils\n",
        "import matplotlib.pyplot as plt\n",
        "import os\n",
        "import time"
      ],
      "execution_count": 1,
      "outputs": []
    },
    {
      "cell_type": "code",
      "metadata": {
        "id": "SPrcpODMrAey",
        "colab": {
          "base_uri": "https://localhost:8080/"
        },
        "outputId": "3bfce13a-1151-481d-abc8-f81a9ae7c499"
      },
      "source": [
        "(x_train, y_train), (x_test, y_test)  = keras.datasets.cifar10.load_data()"
      ],
      "execution_count": 2,
      "outputs": [
        {
          "output_type": "stream",
          "name": "stdout",
          "text": [
            "Downloading data from https://www.cs.toronto.edu/~kriz/cifar-10-python.tar.gz\n",
            "170500096/170498071 [==============================] - 2s 0us/step\n",
            "170508288/170498071 [==============================] - 2s 0us/step\n"
          ]
        }
      ]
    },
    {
      "cell_type": "code",
      "metadata": {
        "colab": {
          "base_uri": "https://localhost:8080/"
        },
        "id": "8Zt_PWKLJN0V",
        "outputId": "07f60a03-322d-4459-80cb-eb80e5a98fcc"
      },
      "source": [
        "y_train.shape"
      ],
      "execution_count": 3,
      "outputs": [
        {
          "output_type": "execute_result",
          "data": {
            "text/plain": [
              "(50000, 1)"
            ]
          },
          "metadata": {},
          "execution_count": 3
        }
      ]
    },
    {
      "cell_type": "code",
      "metadata": {
        "id": "YMc_ii9SAJFW"
      },
      "source": [
        "num_classes = 10\n",
        "y_train = np_utils.to_categorical(y_train)\n",
        "y_test = np_utils.to_categorical(y_test)"
      ],
      "execution_count": 4,
      "outputs": []
    },
    {
      "cell_type": "code",
      "metadata": {
        "colab": {
          "base_uri": "https://localhost:8080/"
        },
        "id": "k5S-CAJNJKDX",
        "outputId": "d2644fc2-d2af-4c0a-ff24-95d3d051d336"
      },
      "source": [
        "y_train.shape"
      ],
      "execution_count": 5,
      "outputs": [
        {
          "output_type": "execute_result",
          "data": {
            "text/plain": [
              "(50000, 10)"
            ]
          },
          "metadata": {},
          "execution_count": 5
        }
      ]
    },
    {
      "cell_type": "code",
      "metadata": {
        "id": "19xn9q5NrDpi"
      },
      "source": [
        "validation_images, validation_labels = x_train[:500], y_train[:500]\n",
        "train_images, train_labels = x_train[500:], y_train[500:]"
      ],
      "execution_count": 6,
      "outputs": []
    },
    {
      "cell_type": "code",
      "metadata": {
        "colab": {
          "base_uri": "https://localhost:8080/"
        },
        "id": "9Q_S-nlALCu9",
        "outputId": "a0378e31-18ef-410e-a170-2ae98b1da08f"
      },
      "source": [
        "train_images.shape"
      ],
      "execution_count": 7,
      "outputs": [
        {
          "output_type": "execute_result",
          "data": {
            "text/plain": [
              "(49500, 32, 32, 3)"
            ]
          },
          "metadata": {},
          "execution_count": 7
        }
      ]
    },
    {
      "cell_type": "code",
      "metadata": {
        "id": "z8lVs-lOrOjW"
      },
      "source": [
        "model = keras.models.Sequential([\n",
        "    keras.layers.Conv2D(filters=96, kernel_size=(3,3), strides=(1,1), activation='relu', input_shape=(32,32,3)),\n",
        "    keras.layers.BatchNormalization(),\n",
        "    keras.layers.MaxPool2D(pool_size=(3,3), strides=(4,4)),\n",
        "    keras.layers.Conv2D(filters=256 , kernel_size=(5,5), strides=(1,1), activation='relu', padding=\"same\"),\n",
        "    keras.layers.BatchNormalization(),\n",
        "    keras.layers.MaxPool2D(pool_size=(3,3), strides=(2,2)),\n",
        "    keras.layers.Conv2D(filters=384 , kernel_size=(3,3), strides=(1,1), activation='relu', padding=\"same\"),\n",
        "    keras.layers.BatchNormalization(),\n",
        "    keras.layers.Conv2D(filters=384 , kernel_size=(1,1), strides=(1,1), activation='relu', padding=\"same\"),\n",
        "    keras.layers.BatchNormalization(),\n",
        "    keras.layers.Conv2D(filters=256 , kernel_size=(1,1), strides=(1,1), activation='relu', padding=\"same\"),\n",
        "    keras.layers.BatchNormalization(),\n",
        "    keras.layers.MaxPool2D(pool_size=(3,3), strides=(2,2)),\n",
        "    keras.layers.Flatten(),\n",
        "    keras.layers.Dense(4096 , activation='relu'),\n",
        "    keras.layers.Dropout(0.5),\n",
        "    keras.layers.Dense(4096 , activation='relu'),\n",
        "    keras.layers.Dropout(0.5),\n",
        "    keras.layers.Dense(10, activation='softmax')\n",
        "])"
      ],
      "execution_count": 11,
      "outputs": []
    },
    {
      "cell_type": "markdown",
      "metadata": {
        "id": "DiPXNJkZBDn8"
      },
      "source": [
        "https://stackoverrun.com/ko/q/11696058"
      ]
    },
    {
      "cell_type": "code",
      "metadata": {
        "colab": {
          "base_uri": "https://localhost:8080/"
        },
        "id": "S5GUoVJcIZVP",
        "outputId": "f5813070-e6f0-469f-afb2-45c89e0054d1"
      },
      "source": [
        "model.compile(loss='categorical_crossentropy', optimizer='adam', metrics=['accuracy'])\n",
        "\n",
        "model.summary()"
      ],
      "execution_count": 12,
      "outputs": [
        {
          "output_type": "stream",
          "name": "stdout",
          "text": [
            "Model: \"sequential_3\"\n",
            "_________________________________________________________________\n",
            "Layer (type)                 Output Shape              Param #   \n",
            "=================================================================\n",
            "conv2d_15 (Conv2D)           (None, 30, 30, 96)        2688      \n",
            "_________________________________________________________________\n",
            "batch_normalization_15 (Batc (None, 30, 30, 96)        384       \n",
            "_________________________________________________________________\n",
            "max_pooling2d_9 (MaxPooling2 (None, 7, 7, 96)          0         \n",
            "_________________________________________________________________\n",
            "conv2d_16 (Conv2D)           (None, 7, 7, 256)         614656    \n",
            "_________________________________________________________________\n",
            "batch_normalization_16 (Batc (None, 7, 7, 256)         1024      \n",
            "_________________________________________________________________\n",
            "max_pooling2d_10 (MaxPooling (None, 3, 3, 256)         0         \n",
            "_________________________________________________________________\n",
            "conv2d_17 (Conv2D)           (None, 3, 3, 384)         885120    \n",
            "_________________________________________________________________\n",
            "batch_normalization_17 (Batc (None, 3, 3, 384)         1536      \n",
            "_________________________________________________________________\n",
            "conv2d_18 (Conv2D)           (None, 3, 3, 384)         147840    \n",
            "_________________________________________________________________\n",
            "batch_normalization_18 (Batc (None, 3, 3, 384)         1536      \n",
            "_________________________________________________________________\n",
            "conv2d_19 (Conv2D)           (None, 3, 3, 256)         98560     \n",
            "_________________________________________________________________\n",
            "batch_normalization_19 (Batc (None, 3, 3, 256)         1024      \n",
            "_________________________________________________________________\n",
            "max_pooling2d_11 (MaxPooling (None, 1, 1, 256)         0         \n",
            "_________________________________________________________________\n",
            "flatten_3 (Flatten)          (None, 256)               0         \n",
            "_________________________________________________________________\n",
            "dense_9 (Dense)              (None, 4096)              1052672   \n",
            "_________________________________________________________________\n",
            "dropout_6 (Dropout)          (None, 4096)              0         \n",
            "_________________________________________________________________\n",
            "dense_10 (Dense)             (None, 4096)              16781312  \n",
            "_________________________________________________________________\n",
            "dropout_7 (Dropout)          (None, 4096)              0         \n",
            "_________________________________________________________________\n",
            "dense_11 (Dense)             (None, 10)                40970     \n",
            "=================================================================\n",
            "Total params: 19,629,322\n",
            "Trainable params: 19,626,570\n",
            "Non-trainable params: 2,752\n",
            "_________________________________________________________________\n"
          ]
        }
      ]
    },
    {
      "cell_type": "code",
      "metadata": {
        "id": "FY4XTz16Ay2l"
      },
      "source": [
        "from keras.preprocessing.image import ImageDataGenerator\n",
        "\n",
        "\n",
        "train_datagen = ImageDataGenerator(rescale = 1./255,\n",
        "                                   shear_range = 0.2,\n",
        "                                   zoom_range = 0.2,\n",
        "                                   horizontal_flip = True)\n",
        "\n",
        "validation_datagen = ImageDataGenerator(rescale = 1./255,\n",
        "                                   shear_range = 0.2,\n",
        "                                   zoom_range = 0.2,\n",
        "                                   horizontal_flip = True)"
      ],
      "execution_count": 16,
      "outputs": []
    },
    {
      "cell_type": "code",
      "metadata": {
        "id": "mmh2I8BtA6_b"
      },
      "source": [
        "train_datagen.fit(train_images)\n",
        "validation_datagen.fit(validation_images)"
      ],
      "execution_count": 14,
      "outputs": []
    },
    {
      "cell_type": "markdown",
      "metadata": {
        "id": "eSJH6CyMu9uS"
      },
      "source": [
        "https://www.geeksforgeeks.org/keras-fit-and-keras-fit_generator/"
      ]
    },
    {
      "cell_type": "code",
      "metadata": {
        "colab": {
          "base_uri": "https://localhost:8080/"
        },
        "id": "NjVRkvy0rUQI",
        "outputId": "4a10d5cf-a0a0-4620-8beb-7576eb0a8086"
      },
      "source": [
        "history = model.fit_generator(train_datagen.flow(train_images,train_labels, batch_size = 32), \n",
        "                    validation_data = validation_datagen.flow(validation_images, validation_labels, batch_size = 32),\n",
        "                    epochs = 10)"
      ],
      "execution_count": 15,
      "outputs": [
        {
          "output_type": "stream",
          "name": "stderr",
          "text": [
            "/usr/local/lib/python3.7/dist-packages/keras/engine/training.py:1972: UserWarning: `Model.fit_generator` is deprecated and will be removed in a future version. Please use `Model.fit`, which supports generators.\n",
            "  warnings.warn('`Model.fit_generator` is deprecated and '\n"
          ]
        },
        {
          "output_type": "stream",
          "name": "stdout",
          "text": [
            "Epoch 1/10\n",
            "1547/1547 [==============================] - 83s 34ms/step - loss: 1.7074 - accuracy: 0.3941 - val_loss: 2.0726 - val_accuracy: 0.2960\n",
            "Epoch 2/10\n",
            "1547/1547 [==============================] - 52s 34ms/step - loss: 1.3929 - accuracy: 0.5191 - val_loss: 1.4651 - val_accuracy: 0.4680\n",
            "Epoch 3/10\n",
            "1547/1547 [==============================] - 52s 34ms/step - loss: 1.2417 - accuracy: 0.5754 - val_loss: 1.1328 - val_accuracy: 0.5960\n",
            "Epoch 4/10\n",
            "1547/1547 [==============================] - 52s 33ms/step - loss: 1.1289 - accuracy: 0.6177 - val_loss: 1.3197 - val_accuracy: 0.5700\n",
            "Epoch 5/10\n",
            "1547/1547 [==============================] - 52s 33ms/step - loss: 1.0419 - accuracy: 0.6487 - val_loss: 0.9632 - val_accuracy: 0.6940\n",
            "Epoch 6/10\n",
            "1547/1547 [==============================] - 52s 33ms/step - loss: 0.9690 - accuracy: 0.6757 - val_loss: 0.9923 - val_accuracy: 0.6300\n",
            "Epoch 7/10\n",
            "1547/1547 [==============================] - 52s 34ms/step - loss: 0.9132 - accuracy: 0.6953 - val_loss: 0.8900 - val_accuracy: 0.6900\n",
            "Epoch 8/10\n",
            "1547/1547 [==============================] - 52s 34ms/step - loss: 0.8585 - accuracy: 0.7145 - val_loss: 0.9156 - val_accuracy: 0.6740\n",
            "Epoch 9/10\n",
            "1547/1547 [==============================] - 51s 33ms/step - loss: 0.8159 - accuracy: 0.7274 - val_loss: 0.9111 - val_accuracy: 0.6780\n",
            "Epoch 10/10\n",
            "1547/1547 [==============================] - 51s 33ms/step - loss: 0.7743 - accuracy: 0.7428 - val_loss: 0.8299 - val_accuracy: 0.6860\n"
          ]
        }
      ]
    },
    {
      "cell_type": "code",
      "metadata": {
        "id": "K18B4z-fTkb2",
        "colab": {
          "base_uri": "https://localhost:8080/",
          "height": 499
        },
        "outputId": "81bddf97-b8f0-4882-b13c-02959c18eaff"
      },
      "source": [
        "acc = history.history['accuracy']\n",
        "val_acc = history.history['val_accuracy']\n",
        "\n",
        "loss = history.history['loss']\n",
        "val_loss = history.history['val_loss']\n",
        "\n",
        "epochs_range = range(10)\n",
        "\n",
        "plt.figure(figsize=(8, 8))\n",
        "plt.subplot(1, 2, 1)\n",
        "plt.plot(epochs_range, acc, label='Training Accuracy')\n",
        "plt.plot(epochs_range, val_acc, label='Validation Accuracy')\n",
        "plt.legend(loc='lower right')\n",
        "plt.title('Training and Validation Accuracy')\n",
        "\n",
        "plt.subplot(1, 2, 2)\n",
        "plt.plot(epochs_range, loss, label='Training Loss')\n",
        "plt.plot(epochs_range, val_loss, label='Validation Loss')\n",
        "plt.legend(loc='upper right')\n",
        "plt.title('Training and Validation Loss')\n",
        "plt.show()"
      ],
      "execution_count": 17,
      "outputs": [
        {
          "output_type": "display_data",
          "data": {
            "image/png": "[encoded data removed]",
            "text/plain": [
              "<Figure size 576x576 with 2 Axes>"
            ]
          },
          "metadata": {
            "needs_background": "light"
          }
        }
      ]
    }
  ]
}