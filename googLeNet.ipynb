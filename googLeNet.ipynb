{
  "nbformat": 4,
  "nbformat_minor": 0,
  "metadata": {
    "accelerator": "GPU",
    "colab": {
      "name": "googLeNet.ipynb",
      "provenance": [],
      "collapsed_sections": [],
      "include_colab_link": true
    },
    "kernelspec": {
      "display_name": "Python 3",
      "name": "python3"
    }
  },
  "cells": [
    {
      "cell_type": "markdown",
      "metadata": {
        "id": "view-in-github",
        "colab_type": "text"
      },
      "source": [
        "<a href=\"https://colab.research.google.com/github/LimKyeongmuk/CNN-Architecture/blob/main/googLeNet.ipynb\" target=\"_parent\"><img src=\"https://colab.research.google.com/assets/colab-badge.svg\" alt=\"Open In Colab\"/></a>"
      ]
    },
    {
      "cell_type": "code",
      "metadata": {
        "id": "5ZiAVJEcNVe1",
        "colab": {
          "base_uri": "https://localhost:8080/"
        },
        "outputId": "087d375c-2171-4f24-ea7f-ae7fcef51f77"
      },
      "source": [
        "from keras.layers import Input, Conv2D, MaxPooling2D, Dropout, BatchNormalization, Dense, Activation, add, Flatten, AveragePooling2D, concatenate\n",
        "from keras.models import Model\n",
        "\n",
        "from keras.preprocessing.image import ImageDataGenerator\n",
        "import numpy as np\n",
        "import tensorflow as tf\n",
        "from keras.utils import np_utils\n",
        "\n",
        "width = 32\n",
        "height = 32\n",
        "\n",
        "(x_train, y_train), (x_test, y_test) = tf.keras.datasets.cifar10.load_data()"
      ],
      "execution_count": 1,
      "outputs": [
        {
          "output_type": "stream",
          "name": "stdout",
          "text": [
            "Downloading data from https://www.cs.toronto.edu/~kriz/cifar-10-python.tar.gz\n",
            "170500096/170498071 [==============================] - 6s 0us/step\n",
            "170508288/170498071 [==============================] - 6s 0us/step\n"
          ]
        }
      ]
    },
    {
      "cell_type": "markdown",
      "metadata": {
        "id": "F1PIxfu-FJTd"
      },
      "source": [
        "https://www.tensorflow.org/api_docs/python/tf/keras/applications/InceptionV3"
      ]
    },
    {
      "cell_type": "code",
      "metadata": {
        "id": "8w4-9oE4Ngaj"
      },
      "source": [
        "num_classes = 10\n",
        "y_train = np_utils.to_categorical(y_train)\n",
        "y_test = np_utils.to_categorical(y_test)"
      ],
      "execution_count": 2,
      "outputs": []
    },
    {
      "cell_type": "code",
      "metadata": {
        "id": "E-GhJpHuW02A"
      },
      "source": [
        "validation_images, validation_labels = x_train[:500], y_train[:500]\n",
        "train_images, train_labels = x_train[500:], y_train[500:]"
      ],
      "execution_count": 3,
      "outputs": []
    },
    {
      "cell_type": "code",
      "metadata": {
        "colab": {
          "base_uri": "https://localhost:8080/"
        },
        "id": "qCGvbXliD5Au",
        "outputId": "ff836275-2f0a-4383-dcae-e38b8fc3ce7b"
      },
      "source": [
        "train_images.shape"
      ],
      "execution_count": 4,
      "outputs": [
        {
          "output_type": "execute_result",
          "data": {
            "text/plain": [
              "(49500, 32, 32, 3)"
            ]
          },
          "metadata": {},
          "execution_count": 4
        }
      ]
    },
    {
      "cell_type": "code",
      "metadata": {
        "id": "gWFlCh3bHU2p"
      },
      "source": [
        "def inception(x, filters): \n",
        "    pre_layer = x\n",
        "    \n",
        "    f1,f2,f3,f4 = filters\n",
        "\n",
        "    # 1x1\n",
        "    conv1 = Conv2D(f1, kernel_size=(1,1), padding='same', activation='relu')(x)\n",
        "    \n",
        "    # 1x1 & 3x3\n",
        "    conv2 = Conv2D(f4, kernel_size=(1,1), padding='same', activation='relu')(x)\n",
        "    conv2 = Conv2D(f2, kernel_size=(3,3), padding='same', activation='relu')(conv2)\n",
        "\n",
        "    # 1x1 & 5x5\n",
        "    conv3 = Conv2D(f4, kernel_size=(1,1), padding='same', activation='relu')(x)\n",
        "    conv3 = Conv2D(f3, kernel_size=(5,5), padding='same', activation='relu')(conv3)\n",
        "    \n",
        "    # pooling & 1x1\n",
        "    max_pool = MaxPooling2D(pool_size=(3,3), strides=1, padding='same')(x)\n",
        "    max_pool = Conv2D(f4, kernel_size=(1,1), padding='same', activation='relu')(max_pool)\n",
        "\n",
        "    # output = [None(batch_size), w,h,c], c 기준 concatenate (axis = -1 )\n",
        "    concat = concatenate([conv1, conv2, conv3, max_pool], axis=-1)\n",
        "    \n",
        "    return concat\n",
        "    "
      ],
      "execution_count": 6,
      "outputs": []
    },
    {
      "cell_type": "code",
      "metadata": {
        "id": "_BQRbgfkHbCV"
      },
      "source": [
        "input_shape = x_train[0].shape    \n",
        "inputs = Input(shape=input_shape)\n",
        "\n",
        "# conv랑 batch 사이에 max pooling 들어가야 하나, cifar 데이터에선 크기 너무 줄어들어서 뺐음\n",
        "x = Conv2D(64, kernel_size=(7,7), strides=2, padding='same', activation='relu')(inputs)\n",
        "x = BatchNormalization()(x)\n",
        "x = Conv2D(192, kernel_size=(3,3), padding='same', activation='relu')(x)\n",
        "x = BatchNormalization()(x) \n",
        "\n",
        "#inception (input, [#1x1conv, #3x3conv, #5x5conv, #1x1reduction] )\n",
        "\n",
        "# inception 3a\n",
        "x = inception(x,[64,128,32,32])\n",
        "# inception 3b\n",
        "x = inception(x,[128,192,96,64])\n",
        "x = MaxPooling2D(pool_size=(3,3), strides=2, padding='same')(x)\n",
        "\n",
        "# inception 4a\n",
        "x = inception(x,[192,208,48,64])\n",
        "\n",
        "# Auxiliary\n",
        "aux1 = AveragePooling2D(pool_size=(5,5),strides = 3, padding='valid')(x)\n",
        "aux1 = Conv2D(128, kernel_size=(1,1), padding='same', activation='relu')(aux1)\n",
        "aux1 = Flatten()(aux1)\n",
        "aux1 = Dense(512, activation='relu')(aux1)\n",
        "aux1 = Dense(10, activation='softmax')(aux1)\n",
        "\n",
        "# inception 4b\n",
        "x = inception(x,[160,224,64,64])\n",
        "\n",
        "aux1 = Flatten()(x)\n",
        "aux1 = Dense(512, activation='relu')(aux1)\n",
        "aux1 = Dense(10, activation='softmax')(aux1)\n",
        "\n",
        "# inception 4c\n",
        "x = inception(x,[128,256,64,64])\n",
        "# inception 4d\n",
        "x = inception(x,[112,288,64,64])\n",
        "\n",
        "# Auxiliary\n",
        "aux2 = AveragePooling2D(pool_size=(5,5),strides = 3, padding='valid')(x)\n",
        "aux2 = Conv2D(128, kernel_size=(1,1), padding='same', activation='relu')(aux2)\n",
        "aux2 = Flatten()(aux2)\n",
        "aux2 = Dense(832, activation='relu')(aux2)\n",
        "aux2 = Dense(10, activation='softmax')(aux2)\n",
        "\n",
        "# inception 4e\n",
        "x = inception(x,[256,320,128,128])\n",
        "\n",
        "# inception 5a\n",
        "x = inception(x,[ 256,320,128,128])\n",
        "# inception 5b\n",
        "x = inception(x,[384,384,128,128])\n",
        "x = AveragePooling2D(pool_size=(4,4), padding='valid')(x)\n",
        "x = Dropout(0.4)(x)\n",
        "x = Flatten()(x)\n",
        "outputs = Dense(10, activation='softmax')(x)"
      ],
      "execution_count": 7,
      "outputs": []
    },
    {
      "cell_type": "code",
      "metadata": {
        "id": "nx3JQsDnBose"
      },
      "source": [
        "model = Model(inputs=inputs, outputs=[aux1, aux2, outputs])\n",
        "\n",
        "model.compile(optimizer='adam', loss='categorical_crossentropy', loss_weights=[0.3,0.3,1.0], metrics=['accuracy']) \n"
      ],
      "execution_count": 8,
      "outputs": []
    },
    {
      "cell_type": "code",
      "metadata": {
        "colab": {
          "base_uri": "https://localhost:8080/"
        },
        "id": "uLio7DUSOqPi",
        "outputId": "e703d264-ee1c-4504-8eed-0c0d2e8f137d"
      },
      "source": [
        "model.summary()"
      ],
      "execution_count": 9,
      "outputs": [
        {
          "output_type": "stream",
          "name": "stdout",
          "text": [
            "Model: \"model\"\n",
            "__________________________________________________________________________________________________\n",
            "Layer (type)                    Output Shape         Param #     Connected to                     \n",
            "==================================================================================================\n",
            "input_1 (InputLayer)            [(None, 32, 32, 3)]  0                                            \n",
            "__________________________________________________________________________________________________\n",
            "conv2d (Conv2D)                 (None, 16, 16, 64)   9472        input_1[0][0]                    \n",
            "__________________________________________________________________________________________________\n",
            "batch_normalization (BatchNorma (None, 16, 16, 64)   256         conv2d[0][0]                     \n",
            "__________________________________________________________________________________________________\n",
            "conv2d_1 (Conv2D)               (None, 16, 16, 192)  110784      batch_normalization[0][0]        \n",
            "__________________________________________________________________________________________________\n",
            "batch_normalization_1 (BatchNor (None, 16, 16, 192)  768         conv2d_1[0][0]                   \n",
            "__________________________________________________________________________________________________\n",
            "conv2d_3 (Conv2D)               (None, 16, 16, 32)   6176        batch_normalization_1[0][0]      \n",
            "__________________________________________________________________________________________________\n",
            "conv2d_5 (Conv2D)               (None, 16, 16, 32)   6176        batch_normalization_1[0][0]      \n",
            "__________________________________________________________________________________________________\n",
            "max_pooling2d (MaxPooling2D)    (None, 16, 16, 192)  0           batch_normalization_1[0][0]      \n",
            "__________________________________________________________________________________________________\n",
            "conv2d_2 (Conv2D)               (None, 16, 16, 64)   12352       batch_normalization_1[0][0]      \n",
            "__________________________________________________________________________________________________\n",
            "conv2d_4 (Conv2D)               (None, 16, 16, 128)  36992       conv2d_3[0][0]                   \n",
            "__________________________________________________________________________________________________\n",
            "conv2d_6 (Conv2D)               (None, 16, 16, 32)   25632       conv2d_5[0][0]                   \n",
            "__________________________________________________________________________________________________\n",
            "conv2d_7 (Conv2D)               (None, 16, 16, 32)   6176        max_pooling2d[0][0]              \n",
            "__________________________________________________________________________________________________\n",
            "concatenate (Concatenate)       (None, 16, 16, 256)  0           conv2d_2[0][0]                   \n",
            "                                                                 conv2d_4[0][0]                   \n",
            "                                                                 conv2d_6[0][0]                   \n",
            "                                                                 conv2d_7[0][0]                   \n",
            "__________________________________________________________________________________________________\n",
            "conv2d_9 (Conv2D)               (None, 16, 16, 64)   16448       concatenate[0][0]                \n",
            "__________________________________________________________________________________________________\n",
            "conv2d_11 (Conv2D)              (None, 16, 16, 64)   16448       concatenate[0][0]                \n",
            "__________________________________________________________________________________________________\n",
            "max_pooling2d_1 (MaxPooling2D)  (None, 16, 16, 256)  0           concatenate[0][0]                \n",
            "__________________________________________________________________________________________________\n",
            "conv2d_8 (Conv2D)               (None, 16, 16, 128)  32896       concatenate[0][0]                \n",
            "__________________________________________________________________________________________________\n",
            "conv2d_10 (Conv2D)              (None, 16, 16, 192)  110784      conv2d_9[0][0]                   \n",
            "__________________________________________________________________________________________________\n",
            "conv2d_12 (Conv2D)              (None, 16, 16, 96)   153696      conv2d_11[0][0]                  \n",
            "__________________________________________________________________________________________________\n",
            "conv2d_13 (Conv2D)              (None, 16, 16, 64)   16448       max_pooling2d_1[0][0]            \n",
            "__________________________________________________________________________________________________\n",
            "concatenate_1 (Concatenate)     (None, 16, 16, 480)  0           conv2d_8[0][0]                   \n",
            "                                                                 conv2d_10[0][0]                  \n",
            "                                                                 conv2d_12[0][0]                  \n",
            "                                                                 conv2d_13[0][0]                  \n",
            "__________________________________________________________________________________________________\n",
            "max_pooling2d_2 (MaxPooling2D)  (None, 8, 8, 480)    0           concatenate_1[0][0]              \n",
            "__________________________________________________________________________________________________\n",
            "conv2d_15 (Conv2D)              (None, 8, 8, 64)     30784       max_pooling2d_2[0][0]            \n",
            "__________________________________________________________________________________________________\n",
            "conv2d_17 (Conv2D)              (None, 8, 8, 64)     30784       max_pooling2d_2[0][0]            \n",
            "__________________________________________________________________________________________________\n",
            "max_pooling2d_3 (MaxPooling2D)  (None, 8, 8, 480)    0           max_pooling2d_2[0][0]            \n",
            "__________________________________________________________________________________________________\n",
            "conv2d_14 (Conv2D)              (None, 8, 8, 192)    92352       max_pooling2d_2[0][0]            \n",
            "__________________________________________________________________________________________________\n",
            "conv2d_16 (Conv2D)              (None, 8, 8, 208)    120016      conv2d_15[0][0]                  \n",
            "__________________________________________________________________________________________________\n",
            "conv2d_18 (Conv2D)              (None, 8, 8, 48)     76848       conv2d_17[0][0]                  \n",
            "__________________________________________________________________________________________________\n",
            "conv2d_19 (Conv2D)              (None, 8, 8, 64)     30784       max_pooling2d_3[0][0]            \n",
            "__________________________________________________________________________________________________\n",
            "concatenate_2 (Concatenate)     (None, 8, 8, 512)    0           conv2d_14[0][0]                  \n",
            "                                                                 conv2d_16[0][0]                  \n",
            "                                                                 conv2d_18[0][0]                  \n",
            "                                                                 conv2d_19[0][0]                  \n",
            "__________________________________________________________________________________________________\n",
            "conv2d_22 (Conv2D)              (None, 8, 8, 64)     32832       concatenate_2[0][0]              \n",
            "__________________________________________________________________________________________________\n",
            "conv2d_24 (Conv2D)              (None, 8, 8, 64)     32832       concatenate_2[0][0]              \n",
            "__________________________________________________________________________________________________\n",
            "max_pooling2d_4 (MaxPooling2D)  (None, 8, 8, 512)    0           concatenate_2[0][0]              \n",
            "__________________________________________________________________________________________________\n",
            "conv2d_21 (Conv2D)              (None, 8, 8, 160)    82080       concatenate_2[0][0]              \n",
            "__________________________________________________________________________________________________\n",
            "conv2d_23 (Conv2D)              (None, 8, 8, 224)    129248      conv2d_22[0][0]                  \n",
            "__________________________________________________________________________________________________\n",
            "conv2d_25 (Conv2D)              (None, 8, 8, 64)     102464      conv2d_24[0][0]                  \n",
            "__________________________________________________________________________________________________\n",
            "conv2d_26 (Conv2D)              (None, 8, 8, 64)     32832       max_pooling2d_4[0][0]            \n",
            "__________________________________________________________________________________________________\n",
            "concatenate_3 (Concatenate)     (None, 8, 8, 512)    0           conv2d_21[0][0]                  \n",
            "                                                                 conv2d_23[0][0]                  \n",
            "                                                                 conv2d_25[0][0]                  \n",
            "                                                                 conv2d_26[0][0]                  \n",
            "__________________________________________________________________________________________________\n",
            "conv2d_28 (Conv2D)              (None, 8, 8, 64)     32832       concatenate_3[0][0]              \n",
            "__________________________________________________________________________________________________\n",
            "conv2d_30 (Conv2D)              (None, 8, 8, 64)     32832       concatenate_3[0][0]              \n",
            "__________________________________________________________________________________________________\n",
            "max_pooling2d_5 (MaxPooling2D)  (None, 8, 8, 512)    0           concatenate_3[0][0]              \n",
            "__________________________________________________________________________________________________\n",
            "conv2d_27 (Conv2D)              (None, 8, 8, 128)    65664       concatenate_3[0][0]              \n",
            "__________________________________________________________________________________________________\n",
            "conv2d_29 (Conv2D)              (None, 8, 8, 256)    147712      conv2d_28[0][0]                  \n",
            "__________________________________________________________________________________________________\n",
            "conv2d_31 (Conv2D)              (None, 8, 8, 64)     102464      conv2d_30[0][0]                  \n",
            "__________________________________________________________________________________________________\n",
            "conv2d_32 (Conv2D)              (None, 8, 8, 64)     32832       max_pooling2d_5[0][0]            \n",
            "__________________________________________________________________________________________________\n",
            "concatenate_4 (Concatenate)     (None, 8, 8, 512)    0           conv2d_27[0][0]                  \n",
            "                                                                 conv2d_29[0][0]                  \n",
            "                                                                 conv2d_31[0][0]                  \n",
            "                                                                 conv2d_32[0][0]                  \n",
            "__________________________________________________________________________________________________\n",
            "conv2d_34 (Conv2D)              (None, 8, 8, 64)     32832       concatenate_4[0][0]              \n",
            "__________________________________________________________________________________________________\n",
            "conv2d_36 (Conv2D)              (None, 8, 8, 64)     32832       concatenate_4[0][0]              \n",
            "__________________________________________________________________________________________________\n",
            "max_pooling2d_6 (MaxPooling2D)  (None, 8, 8, 512)    0           concatenate_4[0][0]              \n",
            "__________________________________________________________________________________________________\n",
            "conv2d_33 (Conv2D)              (None, 8, 8, 112)    57456       concatenate_4[0][0]              \n",
            "__________________________________________________________________________________________________\n",
            "conv2d_35 (Conv2D)              (None, 8, 8, 288)    166176      conv2d_34[0][0]                  \n",
            "__________________________________________________________________________________________________\n",
            "conv2d_37 (Conv2D)              (None, 8, 8, 64)     102464      conv2d_36[0][0]                  \n",
            "__________________________________________________________________________________________________\n",
            "conv2d_38 (Conv2D)              (None, 8, 8, 64)     32832       max_pooling2d_6[0][0]            \n",
            "__________________________________________________________________________________________________\n",
            "concatenate_5 (Concatenate)     (None, 8, 8, 528)    0           conv2d_33[0][0]                  \n",
            "                                                                 conv2d_35[0][0]                  \n",
            "                                                                 conv2d_37[0][0]                  \n",
            "                                                                 conv2d_38[0][0]                  \n",
            "__________________________________________________________________________________________________\n",
            "conv2d_41 (Conv2D)              (None, 8, 8, 128)    67712       concatenate_5[0][0]              \n",
            "__________________________________________________________________________________________________\n",
            "conv2d_43 (Conv2D)              (None, 8, 8, 128)    67712       concatenate_5[0][0]              \n",
            "__________________________________________________________________________________________________\n",
            "max_pooling2d_7 (MaxPooling2D)  (None, 8, 8, 528)    0           concatenate_5[0][0]              \n",
            "__________________________________________________________________________________________________\n",
            "conv2d_40 (Conv2D)              (None, 8, 8, 256)    135424      concatenate_5[0][0]              \n",
            "__________________________________________________________________________________________________\n",
            "conv2d_42 (Conv2D)              (None, 8, 8, 320)    368960      conv2d_41[0][0]                  \n",
            "__________________________________________________________________________________________________\n",
            "conv2d_44 (Conv2D)              (None, 8, 8, 128)    409728      conv2d_43[0][0]                  \n",
            "__________________________________________________________________________________________________\n",
            "conv2d_45 (Conv2D)              (None, 8, 8, 128)    67712       max_pooling2d_7[0][0]            \n",
            "__________________________________________________________________________________________________\n",
            "concatenate_6 (Concatenate)     (None, 8, 8, 832)    0           conv2d_40[0][0]                  \n",
            "                                                                 conv2d_42[0][0]                  \n",
            "                                                                 conv2d_44[0][0]                  \n",
            "                                                                 conv2d_45[0][0]                  \n",
            "__________________________________________________________________________________________________\n",
            "conv2d_47 (Conv2D)              (None, 8, 8, 128)    106624      concatenate_6[0][0]              \n",
            "__________________________________________________________________________________________________\n",
            "conv2d_49 (Conv2D)              (None, 8, 8, 128)    106624      concatenate_6[0][0]              \n",
            "__________________________________________________________________________________________________\n",
            "max_pooling2d_8 (MaxPooling2D)  (None, 8, 8, 832)    0           concatenate_6[0][0]              \n",
            "__________________________________________________________________________________________________\n",
            "conv2d_46 (Conv2D)              (None, 8, 8, 256)    213248      concatenate_6[0][0]              \n",
            "__________________________________________________________________________________________________\n",
            "conv2d_48 (Conv2D)              (None, 8, 8, 320)    368960      conv2d_47[0][0]                  \n",
            "__________________________________________________________________________________________________\n",
            "conv2d_50 (Conv2D)              (None, 8, 8, 128)    409728      conv2d_49[0][0]                  \n",
            "__________________________________________________________________________________________________\n",
            "conv2d_51 (Conv2D)              (None, 8, 8, 128)    106624      max_pooling2d_8[0][0]            \n",
            "__________________________________________________________________________________________________\n",
            "concatenate_7 (Concatenate)     (None, 8, 8, 832)    0           conv2d_46[0][0]                  \n",
            "                                                                 conv2d_48[0][0]                  \n",
            "                                                                 conv2d_50[0][0]                  \n",
            "                                                                 conv2d_51[0][0]                  \n",
            "__________________________________________________________________________________________________\n",
            "conv2d_53 (Conv2D)              (None, 8, 8, 128)    106624      concatenate_7[0][0]              \n",
            "__________________________________________________________________________________________________\n",
            "conv2d_55 (Conv2D)              (None, 8, 8, 128)    106624      concatenate_7[0][0]              \n",
            "__________________________________________________________________________________________________\n",
            "max_pooling2d_9 (MaxPooling2D)  (None, 8, 8, 832)    0           concatenate_7[0][0]              \n",
            "__________________________________________________________________________________________________\n",
            "conv2d_52 (Conv2D)              (None, 8, 8, 384)    319872      concatenate_7[0][0]              \n",
            "__________________________________________________________________________________________________\n",
            "conv2d_54 (Conv2D)              (None, 8, 8, 384)    442752      conv2d_53[0][0]                  \n",
            "__________________________________________________________________________________________________\n",
            "conv2d_56 (Conv2D)              (None, 8, 8, 128)    409728      conv2d_55[0][0]                  \n",
            "__________________________________________________________________________________________________\n",
            "conv2d_57 (Conv2D)              (None, 8, 8, 128)    106624      max_pooling2d_9[0][0]            \n",
            "__________________________________________________________________________________________________\n",
            "average_pooling2d_1 (AveragePoo (None, 2, 2, 528)    0           concatenate_5[0][0]              \n",
            "__________________________________________________________________________________________________\n",
            "concatenate_8 (Concatenate)     (None, 8, 8, 1024)   0           conv2d_52[0][0]                  \n",
            "                                                                 conv2d_54[0][0]                  \n",
            "                                                                 conv2d_56[0][0]                  \n",
            "                                                                 conv2d_57[0][0]                  \n",
            "__________________________________________________________________________________________________\n",
            "conv2d_39 (Conv2D)              (None, 2, 2, 128)    67712       average_pooling2d_1[0][0]        \n",
            "__________________________________________________________________________________________________\n",
            "average_pooling2d_2 (AveragePoo (None, 2, 2, 1024)   0           concatenate_8[0][0]              \n",
            "__________________________________________________________________________________________________\n",
            "flatten_1 (Flatten)             (None, 32768)        0           concatenate_3[0][0]              \n",
            "__________________________________________________________________________________________________\n",
            "flatten_2 (Flatten)             (None, 512)          0           conv2d_39[0][0]                  \n",
            "__________________________________________________________________________________________________\n",
            "dropout (Dropout)               (None, 2, 2, 1024)   0           average_pooling2d_2[0][0]        \n",
            "__________________________________________________________________________________________________\n",
            "dense_2 (Dense)                 (None, 512)          16777728    flatten_1[0][0]                  \n",
            "__________________________________________________________________________________________________\n",
            "dense_4 (Dense)                 (None, 832)          426816      flatten_2[0][0]                  \n",
            "__________________________________________________________________________________________________\n",
            "flatten_3 (Flatten)             (None, 4096)         0           dropout[0][0]                    \n",
            "__________________________________________________________________________________________________\n",
            "dense_3 (Dense)                 (None, 10)           5130        dense_2[0][0]                    \n",
            "__________________________________________________________________________________________________\n",
            "dense_5 (Dense)                 (None, 10)           8330        dense_4[0][0]                    \n",
            "__________________________________________________________________________________________________\n",
            "dense_6 (Dense)                 (None, 10)           40970       flatten_3[0][0]                  \n",
            "==================================================================================================\n",
            "Total params: 23,442,254\n",
            "Trainable params: 23,441,742\n",
            "Non-trainable params: 512\n",
            "__________________________________________________________________________________________________\n"
          ]
        }
      ]
    },
    {
      "cell_type": "code",
      "metadata": {
        "id": "hKIGz5YMWrKr"
      },
      "source": [
        "train_datagen = ImageDataGenerator(rescale = 1./255,\n",
        "                                   shear_range = 0.2,\n",
        "                                   zoom_range = 0.2,\n",
        "                                   horizontal_flip = True)\n",
        "\n",
        "validation_datagen = ImageDataGenerator(rescale = 1./255,\n",
        "                                   shear_range = 0.2,\n",
        "                                   zoom_range = 0.2,\n",
        "                                   horizontal_flip = True)"
      ],
      "execution_count": 10,
      "outputs": []
    },
    {
      "cell_type": "code",
      "metadata": {
        "colab": {
          "base_uri": "https://localhost:8080/"
        },
        "id": "o73IuB0RXFoe",
        "outputId": "d7acfc6e-9841-40f2-c9d7-144ec0dda500"
      },
      "source": [
        "history = model.fit_generator(train_datagen.flow(train_images,train_labels, batch_size = 32), \n",
        "                    validation_data = validation_datagen.flow(validation_images, validation_labels, batch_size = 32),\n",
        "                    epochs = 10)"
      ],
      "execution_count": 12,
      "outputs": [
        {
          "output_type": "stream",
          "name": "stderr",
          "text": [
            "/usr/local/lib/python3.7/dist-packages/keras/engine/training.py:1972: UserWarning: `Model.fit_generator` is deprecated and will be removed in a future version. Please use `Model.fit`, which supports generators.\n",
            "  warnings.warn('`Model.fit_generator` is deprecated and '\n"
          ]
        },
        {
          "output_type": "stream",
          "name": "stdout",
          "text": [
            "Epoch 1/10\n",
            "1547/1547 [==============================] - 211s 136ms/step - loss: 1.0044 - dense_3_loss: 0.5963 - dense_5_loss: 0.6291 - dense_6_loss: 0.6368 - dense_3_accuracy: 0.7960 - dense_5_accuracy: 0.7826 - dense_6_accuracy: 0.7808 - val_loss: 1.2071 - val_dense_3_loss: 0.7503 - val_dense_5_loss: 0.7383 - val_dense_6_loss: 0.7606 - val_dense_3_accuracy: 0.7480 - val_dense_5_accuracy: 0.7280 - val_dense_6_accuracy: 0.7220\n",
            "Epoch 2/10\n",
            "1547/1547 [==============================] - 211s 136ms/step - loss: 0.9744 - dense_3_loss: 0.5740 - dense_5_loss: 0.6099 - dense_6_loss: 0.6192 - dense_3_accuracy: 0.8023 - dense_5_accuracy: 0.7877 - dense_6_accuracy: 0.7862 - val_loss: 1.0450 - val_dense_3_loss: 0.6869 - val_dense_5_loss: 0.6662 - val_dense_6_loss: 0.6390 - val_dense_3_accuracy: 0.7560 - val_dense_5_accuracy: 0.7620 - val_dense_6_accuracy: 0.7680\n",
            "Epoch 3/10\n",
            "1547/1547 [==============================] - 210s 136ms/step - loss: 0.9486 - dense_3_loss: 0.5626 - dense_5_loss: 0.5922 - dense_6_loss: 0.6022 - dense_3_accuracy: 0.8074 - dense_5_accuracy: 0.7939 - dense_6_accuracy: 0.7927 - val_loss: 0.9834 - val_dense_3_loss: 0.6459 - val_dense_5_loss: 0.5893 - val_dense_6_loss: 0.6128 - val_dense_3_accuracy: 0.7740 - val_dense_5_accuracy: 0.7960 - val_dense_6_accuracy: 0.7760\n",
            "Epoch 4/10\n",
            "1547/1547 [==============================] - 210s 136ms/step - loss: 0.9189 - dense_3_loss: 0.5448 - dense_5_loss: 0.5731 - dense_6_loss: 0.5835 - dense_3_accuracy: 0.8157 - dense_5_accuracy: 0.8012 - dense_6_accuracy: 0.7994 - val_loss: 1.0812 - val_dense_3_loss: 0.7211 - val_dense_5_loss: 0.6665 - val_dense_6_loss: 0.6649 - val_dense_3_accuracy: 0.7520 - val_dense_5_accuracy: 0.7700 - val_dense_6_accuracy: 0.7560\n",
            "Epoch 5/10\n",
            "1547/1547 [==============================] - 210s 136ms/step - loss: 0.9059 - dense_3_loss: 0.5373 - dense_5_loss: 0.5662 - dense_6_loss: 0.5748 - dense_3_accuracy: 0.8196 - dense_5_accuracy: 0.8055 - dense_6_accuracy: 0.8035 - val_loss: 0.8541 - val_dense_3_loss: 0.5616 - val_dense_5_loss: 0.5226 - val_dense_6_loss: 0.5288 - val_dense_3_accuracy: 0.8220 - val_dense_5_accuracy: 0.8180 - val_dense_6_accuracy: 0.8060\n",
            "Epoch 6/10\n",
            "1547/1547 [==============================] - 210s 136ms/step - loss: 0.8783 - dense_3_loss: 0.5199 - dense_5_loss: 0.5464 - dense_6_loss: 0.5584 - dense_3_accuracy: 0.8254 - dense_5_accuracy: 0.8120 - dense_6_accuracy: 0.8094 - val_loss: 1.0729 - val_dense_3_loss: 0.6670 - val_dense_5_loss: 0.6898 - val_dense_6_loss: 0.6659 - val_dense_3_accuracy: 0.7840 - val_dense_5_accuracy: 0.7780 - val_dense_6_accuracy: 0.7660\n",
            "Epoch 7/10\n",
            "1547/1547 [==============================] - 210s 136ms/step - loss: 0.8675 - dense_3_loss: 0.5177 - dense_5_loss: 0.5417 - dense_6_loss: 0.5497 - dense_3_accuracy: 0.8256 - dense_5_accuracy: 0.8131 - dense_6_accuracy: 0.8117 - val_loss: 1.0040 - val_dense_3_loss: 0.6400 - val_dense_5_loss: 0.6235 - val_dense_6_loss: 0.6249 - val_dense_3_accuracy: 0.8120 - val_dense_5_accuracy: 0.7840 - val_dense_6_accuracy: 0.7980\n",
            "Epoch 8/10\n",
            "1547/1547 [==============================] - 210s 136ms/step - loss: 0.8579 - dense_3_loss: 0.5106 - dense_5_loss: 0.5347 - dense_6_loss: 0.5443 - dense_3_accuracy: 0.8276 - dense_5_accuracy: 0.8148 - dense_6_accuracy: 0.8139 - val_loss: 0.8566 - val_dense_3_loss: 0.5790 - val_dense_5_loss: 0.5299 - val_dense_6_loss: 0.5239 - val_dense_3_accuracy: 0.7900 - val_dense_5_accuracy: 0.8200 - val_dense_6_accuracy: 0.8080\n",
            "Epoch 9/10\n",
            "1547/1547 [==============================] - 210s 136ms/step - loss: 0.8428 - dense_3_loss: 0.5027 - dense_5_loss: 0.5259 - dense_6_loss: 0.5342 - dense_3_accuracy: 0.8304 - dense_5_accuracy: 0.8183 - dense_6_accuracy: 0.8146 - val_loss: 0.8905 - val_dense_3_loss: 0.5826 - val_dense_5_loss: 0.5367 - val_dense_6_loss: 0.5548 - val_dense_3_accuracy: 0.7940 - val_dense_5_accuracy: 0.7940 - val_dense_6_accuracy: 0.8000\n",
            "Epoch 10/10\n",
            "1547/1547 [==============================] - 210s 136ms/step - loss: 0.8349 - dense_3_loss: 0.5055 - dense_5_loss: 0.5210 - dense_6_loss: 0.5269 - dense_3_accuracy: 0.8329 - dense_5_accuracy: 0.8226 - dense_6_accuracy: 0.8196 - val_loss: 1.0017 - val_dense_3_loss: 0.7161 - val_dense_5_loss: 0.6006 - val_dense_6_loss: 0.6067 - val_dense_3_accuracy: 0.7680 - val_dense_5_accuracy: 0.8040 - val_dense_6_accuracy: 0.7960\n"
          ]
        }
      ]
    },
    {
      "cell_type": "code",
      "metadata": {
        "colab": {
          "base_uri": "https://localhost:8080/",
          "height": 499
        },
        "id": "nouTQsGTOR9i",
        "outputId": "5cd1aa4a-6b5b-455f-e294-b623fd1efec2"
      },
      "source": [
        "import matplotlib.pyplot as plt\n",
        "\n",
        "acc = history.history['dense_3_accuracy']\n",
        "val_acc = history.history['val_dense_3_accuracy']\n",
        "\n",
        "loss = history.history['dense_3_loss']\n",
        "val_loss = history.history['val_dense_3_loss']\n",
        "\n",
        "epochs_range = range(10)\n",
        "\n",
        "plt.figure(figsize=(8, 8))\n",
        "plt.subplot(1, 2, 1)\n",
        "plt.plot(epochs_range, acc, label='Training Accuracy')\n",
        "plt.plot(epochs_range, val_acc, label='Validation Accuracy')\n",
        "plt.legend(loc='lower right')\n",
        "plt.title('Training and Validation Accuracy')\n",
        "\n",
        "plt.subplot(1, 2, 2)\n",
        "plt.plot(epochs_range, loss, label='Training Loss')\n",
        "plt.plot(epochs_range, val_loss, label='Validation Loss')\n",
        "plt.legend(loc='upper right')\n",
        "plt.title('Training and Validation Loss')\n",
        "plt.show()"
      ],
      "execution_count": 20,
      "outputs": [
        {
          "output_type": "display_data",
          "data": {
            "image/png": "[encoded data removed]",
            "text/plain": [
              "<Figure size 576x576 with 2 Axes>"
            ]
          },
          "metadata": {
            "needs_background": "light"
          }
        }
      ]
    }
  ]
}